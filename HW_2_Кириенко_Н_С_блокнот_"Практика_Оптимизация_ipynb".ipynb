{
  "cells": [
    {
      "cell_type": "markdown",
      "metadata": {
        "id": "view-in-github",
        "colab_type": "text"
      },
      "source": [
        "<a href=\"https://colab.research.google.com/github/NadezhdaKIR/SF_DS_2023/blob/main/HW_2_%D0%9A%D0%B8%D1%80%D0%B8%D0%B5%D0%BD%D0%BA%D0%BE_%D0%9D_%D0%A1_%D0%B1%D0%BB%D0%BE%D0%BA%D0%BD%D0%BE%D1%82_%22%D0%9F%D1%80%D0%B0%D0%BA%D1%82%D0%B8%D0%BA%D0%B0_%D0%9E%D0%BF%D1%82%D0%B8%D0%BC%D0%B8%D0%B7%D0%B0%D1%86%D0%B8%D1%8F_ipynb%22.ipynb\" target=\"_parent\"><img src=\"https://colab.research.google.com/assets/colab-badge.svg\" alt=\"Open In Colab\"/></a>"
      ]
    },
    {
      "cell_type": "code",
      "execution_count": null,
      "metadata": {
        "id": "CE-BZY0xcnax",
        "outputId": "f038fdeb-d0e7-47f2-ad58-9df8771592b7"
      },
      "outputs": [
        {
          "name": "stdout",
          "output_type": "stream",
          "text": [
            "optuna ver.: 3.5.0\n"
          ]
        }
      ],
      "source": [
        "# install optuna if not\n",
        "try:\n",
        "    import optuna\n",
        "    print('optuna ver.:', optuna.__version__)\n",
        "except:\n",
        "    !pip install optuna"
      ]
    },
    {
      "cell_type": "code",
      "execution_count": null,
      "metadata": {
        "id": "PYDDBQGkcnay"
      },
      "outputs": [],
      "source": [
        "# Imports\n",
        "import pandas as pd\n",
        "import numpy as np\n",
        "import matplotlib.pyplot as plt\n",
        "import optuna\n",
        "from sklearn.linear_model import SGDRegressor\n",
        "from sklearn.preprocessing import StandardScaler\n",
        "from sklearn.metrics import mean_squared_error, mean_absolute_error\n",
        "from sklearn.model_selection import train_test_split, cross_val_score\n",
        "from IPython.display import display"
      ]
    },
    {
      "cell_type": "markdown",
      "metadata": {
        "id": "NyHIGVhfa_Wf"
      },
      "source": [
        "# Стохастический градиентный и координатный спуски"
      ]
    },
    {
      "cell_type": "markdown",
      "metadata": {
        "id": "gn6lluIADUKa"
      },
      "source": [
        "Для каждого задания указано количество баллов (если они оцениваются отдельно) + 1 балл за аккуратное и полное выполнение всего задания"
      ]
    },
    {
      "cell_type": "markdown",
      "metadata": {
        "id": "txCccYvha_Wv"
      },
      "source": [
        "## Загрузка и подготовка данных"
      ]
    },
    {
      "cell_type": "markdown",
      "metadata": {
        "id": "NbyOzeZ6a_Wx"
      },
      "source": [
        "**✔Загрузите уже знакомый вам файл *Advertising.csv* как объект DataFrame.**"
      ]
    },
    {
      "cell_type": "code",
      "execution_count": null,
      "metadata": {
        "id": "E1L4_xeDa_Wz"
      },
      "outputs": [],
      "source": [
        "df = pd.read_csv('drive.google.com/file/d/157tyaHhLQqwc1F_ioTi03hTtIe7r8ygS/view?usp=sharing')"
      ]
    },
    {
      "cell_type": "markdown",
      "metadata": {
        "id": "bf4aVFndDUKf"
      },
      "source": [
        "**✔Проверьте, есть ли в данных пропуски и, если они есть - удалите их**"
      ]
    },
    {
      "cell_type": "code",
      "execution_count": null,
      "metadata": {
        "id": "t8Lhzk74cna1",
        "outputId": "7144ce56-eed8-46d7-e94a-2a65f5ca9102"
      },
      "outputs": [
        {
          "name": "stdout",
          "output_type": "stream",
          "text": [
            "Number of records:\t 200\n",
            "Number of columns:\t 5\n",
            "Explicit duplicates:\t 0\n",
            "Missing values present in 0 columns out of 5:\n",
            "Number of unique values in each feature:\n"
          ]
        },
        {
          "data": {
            "text/html": [
              "<div>\n",
              "<style scoped>\n",
              "    .dataframe tbody tr th:only-of-type {\n",
              "        vertical-align: middle;\n",
              "    }\n",
              "\n",
              "    .dataframe tbody tr th {\n",
              "        vertical-align: top;\n",
              "    }\n",
              "\n",
              "    .dataframe thead th {\n",
              "        text-align: right;\n",
              "    }\n",
              "</style>\n",
              "<table border=\"1\" class=\"dataframe\">\n",
              "  <thead>\n",
              "    <tr style=\"text-align: right;\">\n",
              "      <th></th>\n",
              "      <th>Unique Values</th>\n",
              "    </tr>\n",
              "  </thead>\n",
              "  <tbody>\n",
              "    <tr>\n",
              "      <th>Unnamed: 0</th>\n",
              "      <td>200</td>\n",
              "    </tr>\n",
              "    <tr>\n",
              "      <th>TV</th>\n",
              "      <td>190</td>\n",
              "    </tr>\n",
              "    <tr>\n",
              "      <th>newspaper</th>\n",
              "      <td>172</td>\n",
              "    </tr>\n",
              "    <tr>\n",
              "      <th>radio</th>\n",
              "      <td>167</td>\n",
              "    </tr>\n",
              "    <tr>\n",
              "      <th>sales</th>\n",
              "      <td>121</td>\n",
              "    </tr>\n",
              "  </tbody>\n",
              "</table>\n",
              "</div>"
            ],
            "text/plain": [
              "            Unique Values\n",
              "Unnamed: 0            200\n",
              "TV                    190\n",
              "newspaper             172\n",
              "radio                 167\n",
              "sales                 121"
            ]
          },
          "metadata": {},
          "output_type": "display_data"
        },
        {
          "name": "stdout",
          "output_type": "stream",
          "text": [
            "\n",
            "Statistics:\n"
          ]
        },
        {
          "data": {
            "text/html": [
              "<div>\n",
              "<style scoped>\n",
              "    .dataframe tbody tr th:only-of-type {\n",
              "        vertical-align: middle;\n",
              "    }\n",
              "\n",
              "    .dataframe tbody tr th {\n",
              "        vertical-align: top;\n",
              "    }\n",
              "\n",
              "    .dataframe thead th {\n",
              "        text-align: right;\n",
              "    }\n",
              "</style>\n",
              "<table border=\"1\" class=\"dataframe\">\n",
              "  <thead>\n",
              "    <tr style=\"text-align: right;\">\n",
              "      <th></th>\n",
              "      <th>Unnamed: 0</th>\n",
              "      <th>TV</th>\n",
              "      <th>radio</th>\n",
              "      <th>newspaper</th>\n",
              "      <th>sales</th>\n",
              "    </tr>\n",
              "  </thead>\n",
              "  <tbody>\n",
              "    <tr>\n",
              "      <th>count</th>\n",
              "      <td>200.000000</td>\n",
              "      <td>200.000000</td>\n",
              "      <td>200.000000</td>\n",
              "      <td>200.000000</td>\n",
              "      <td>200.000000</td>\n",
              "    </tr>\n",
              "    <tr>\n",
              "      <th>mean</th>\n",
              "      <td>100.500000</td>\n",
              "      <td>147.042500</td>\n",
              "      <td>23.264000</td>\n",
              "      <td>30.554000</td>\n",
              "      <td>14.022500</td>\n",
              "    </tr>\n",
              "    <tr>\n",
              "      <th>std</th>\n",
              "      <td>57.879185</td>\n",
              "      <td>85.854236</td>\n",
              "      <td>14.846809</td>\n",
              "      <td>21.778621</td>\n",
              "      <td>5.217457</td>\n",
              "    </tr>\n",
              "    <tr>\n",
              "      <th>min</th>\n",
              "      <td>1.000000</td>\n",
              "      <td>0.700000</td>\n",
              "      <td>0.000000</td>\n",
              "      <td>0.300000</td>\n",
              "      <td>1.600000</td>\n",
              "    </tr>\n",
              "    <tr>\n",
              "      <th>25%</th>\n",
              "      <td>50.750000</td>\n",
              "      <td>74.375000</td>\n",
              "      <td>9.975000</td>\n",
              "      <td>12.750000</td>\n",
              "      <td>10.375000</td>\n",
              "    </tr>\n",
              "    <tr>\n",
              "      <th>50%</th>\n",
              "      <td>100.500000</td>\n",
              "      <td>149.750000</td>\n",
              "      <td>22.900000</td>\n",
              "      <td>25.750000</td>\n",
              "      <td>12.900000</td>\n",
              "    </tr>\n",
              "    <tr>\n",
              "      <th>75%</th>\n",
              "      <td>150.250000</td>\n",
              "      <td>218.825000</td>\n",
              "      <td>36.525000</td>\n",
              "      <td>45.100000</td>\n",
              "      <td>17.400000</td>\n",
              "    </tr>\n",
              "    <tr>\n",
              "      <th>max</th>\n",
              "      <td>200.000000</td>\n",
              "      <td>296.400000</td>\n",
              "      <td>49.600000</td>\n",
              "      <td>114.000000</td>\n",
              "      <td>27.000000</td>\n",
              "    </tr>\n",
              "  </tbody>\n",
              "</table>\n",
              "</div>"
            ],
            "text/plain": [
              "       Unnamed: 0          TV       radio   newspaper       sales\n",
              "count  200.000000  200.000000  200.000000  200.000000  200.000000\n",
              "mean   100.500000  147.042500   23.264000   30.554000   14.022500\n",
              "std     57.879185   85.854236   14.846809   21.778621    5.217457\n",
              "min      1.000000    0.700000    0.000000    0.300000    1.600000\n",
              "25%     50.750000   74.375000    9.975000   12.750000   10.375000\n",
              "50%    100.500000  149.750000   22.900000   25.750000   12.900000\n",
              "75%    150.250000  218.825000   36.525000   45.100000   17.400000\n",
              "max    200.000000  296.400000   49.600000  114.000000   27.000000"
            ]
          },
          "metadata": {},
          "output_type": "display_data"
        },
        {
          "name": "stdout",
          "output_type": "stream",
          "text": [
            "\n",
            "Summary information:\n",
            "<class 'pandas.core.frame.DataFrame'>\n",
            "RangeIndex: 200 entries, 0 to 199\n",
            "Data columns (total 5 columns):\n",
            " #   Column      Non-Null Count  Dtype  \n",
            "---  ------      --------------  -----  \n",
            " 0   Unnamed: 0  200 non-null    int64  \n",
            " 1   TV          200 non-null    float64\n",
            " 2   radio       200 non-null    float64\n",
            " 3   newspaper   200 non-null    float64\n",
            " 4   sales       200 non-null    float64\n",
            "dtypes: float64(4), int64(1)\n",
            "memory usage: 7.9 KB\n",
            "\n",
            "First 3 rows:\n"
          ]
        },
        {
          "data": {
            "text/html": [
              "<div>\n",
              "<style scoped>\n",
              "    .dataframe tbody tr th:only-of-type {\n",
              "        vertical-align: middle;\n",
              "    }\n",
              "\n",
              "    .dataframe tbody tr th {\n",
              "        vertical-align: top;\n",
              "    }\n",
              "\n",
              "    .dataframe thead th {\n",
              "        text-align: right;\n",
              "    }\n",
              "</style>\n",
              "<table border=\"1\" class=\"dataframe\">\n",
              "  <thead>\n",
              "    <tr style=\"text-align: right;\">\n",
              "      <th></th>\n",
              "      <th>Unnamed: 0</th>\n",
              "      <th>TV</th>\n",
              "      <th>radio</th>\n",
              "      <th>newspaper</th>\n",
              "      <th>sales</th>\n",
              "    </tr>\n",
              "  </thead>\n",
              "  <tbody>\n",
              "    <tr>\n",
              "      <th>0</th>\n",
              "      <td>1</td>\n",
              "      <td>230.1</td>\n",
              "      <td>37.8</td>\n",
              "      <td>69.2</td>\n",
              "      <td>22.1</td>\n",
              "    </tr>\n",
              "    <tr>\n",
              "      <th>1</th>\n",
              "      <td>2</td>\n",
              "      <td>44.5</td>\n",
              "      <td>39.3</td>\n",
              "      <td>45.1</td>\n",
              "      <td>10.4</td>\n",
              "    </tr>\n",
              "    <tr>\n",
              "      <th>2</th>\n",
              "      <td>3</td>\n",
              "      <td>17.2</td>\n",
              "      <td>45.9</td>\n",
              "      <td>69.3</td>\n",
              "      <td>9.3</td>\n",
              "    </tr>\n",
              "  </tbody>\n",
              "</table>\n",
              "</div>"
            ],
            "text/plain": [
              "   Unnamed: 0     TV  radio  newspaper  sales\n",
              "0           1  230.1   37.8       69.2   22.1\n",
              "1           2   44.5   39.3       45.1   10.4\n",
              "2           3   17.2   45.9       69.3    9.3"
            ]
          },
          "metadata": {},
          "output_type": "display_data"
        }
      ],
      "source": [
        "def df_info(df: pd.DataFrame):\n",
        "    \"\"\"\n",
        "    Displays comprehensive information about the pandas DataFrame including\n",
        "    the number of records, columns, explicit duplicates, missing values,\n",
        "    unique values, descriptive statistics, and a preview of the first 3 rows.\n",
        "\n",
        "    Parameters:\n",
        "    df (pd.DataFrame): The DataFrame to be analyzed.\n",
        "    \"\"\"\n",
        "    len_df = len(df)\n",
        "    na_columns = df.isna().sum()\n",
        "    missing_value_columns = na_columns[na_columns > 0]\n",
        "    unique_counts = df.nunique()\n",
        "\n",
        "    # General Information\n",
        "    print(f'Number of records:\\t {len_df}')\n",
        "    print(f'Number of columns:\\t {len(df.columns)}')\n",
        "    print(f'Explicit duplicates:\\t {df.duplicated().sum()}')\n",
        "\n",
        "    # Missing Values Information\n",
        "    print(f'Missing values present in {len(missing_value_columns)} columns out of {len(df.columns)}:')\n",
        "    missing_percentage = (missing_value_columns / len_df * 100).sort_values(ascending=False)\n",
        "    if any(missing_percentage):\n",
        "        display(pd.DataFrame({'Missing Count': missing_value_columns, 'Missing %': missing_percentage}))\n",
        "\n",
        "    # Unique Values Information\n",
        "    print('Number of unique values in each feature:')\n",
        "    display(pd.DataFrame({'Unique Values': unique_counts}).sort_values(by='Unique Values', ascending=False))\n",
        "\n",
        "    # Descriptive Statistics\n",
        "    print('\\nStatistics:')\n",
        "    display(df.describe(include='all'))\n",
        "\n",
        "    # Summary Information\n",
        "    print('\\nSummary information:')\n",
        "    df.info(verbose=True)  # Removed null_counts parameter\n",
        "\n",
        "    # Preview of the First 3 Rows\n",
        "    print('\\nFirst 3 rows:')\n",
        "    display(df.head(3))\n",
        "\n",
        "# Example usage:\n",
        "# df = pd.read_csv('your-dataset.csv')\n",
        "df_info(df)"
      ]
    },
    {
      "cell_type": "markdown",
      "metadata": {
        "id": "dw1OdpHOcna1"
      },
      "source": [
        "### Вывод по разделу\n",
        "Пропуски не обнаружены"
      ]
    },
    {
      "cell_type": "markdown",
      "metadata": {
        "id": "rTkiqPr_DUKh"
      },
      "source": [
        "**✔Преобразуйте ваши признаки в массивы NumPy и разделите их на переменные X (предикторы) и y(целевая переменная)**"
      ]
    },
    {
      "cell_type": "code",
      "execution_count": null,
      "metadata": {
        "id": "R9OHIRB3a_Xa",
        "outputId": "9fa9d16f-7c71-4a55-b162-bd18407e4700"
      },
      "outputs": [
        {
          "data": {
            "text/plain": [
              "(array([[230.1,  37.8,  69.2],\n",
              "        [ 44.5,  39.3,  45.1],\n",
              "        [ 17.2,  45.9,  69.3]]),\n",
              " array([22.1, 10.4,  9.3]))"
            ]
          },
          "execution_count": 5,
          "metadata": {},
          "output_type": "execute_result"
        }
      ],
      "source": [
        "# Создание матрицы наблюдений X\n",
        "X = df.drop(['sales', 'Unnamed: 0'], axis=1).values\n",
        "\n",
        "# Вектор правильных ответов —  y\n",
        "y = df['sales'].values\n",
        "\n",
        "# check\n",
        "X[:3], y[:3]\n"
      ]
    },
    {
      "cell_type": "markdown",
      "metadata": {
        "id": "KCvjSoHEDUKo"
      },
      "source": [
        "## Координатный спуск (3 балла)"
      ]
    },
    {
      "cell_type": "markdown",
      "metadata": {
        "id": "yjNm8dATDUKq"
      },
      "source": [
        "**✔Добавим единичный столбец для того, чтобы у нас был свободный коэффициент в уравнении регрессии:**"
      ]
    },
    {
      "cell_type": "code",
      "execution_count": null,
      "metadata": {
        "id": "LMgq0fmKDUKr",
        "outputId": "10fb3abc-efbd-4b6f-aeaf-73bc34a870d5"
      },
      "outputs": [
        {
          "data": {
            "text/plain": [
              "array([[  1. , 230.1,  37.8,  69.2],\n",
              "       [  1. ,  44.5,  39.3,  45.1],\n",
              "       [  1. ,  17.2,  45.9,  69.3]])"
            ]
          },
          "execution_count": 6,
          "metadata": {},
          "output_type": "execute_result"
        }
      ],
      "source": [
        "# import numpy as np\n",
        "X = np.hstack([np.ones(X.shape[0]).reshape(-1, 1), X])\n",
        "\n",
        "# check\n",
        "X[:3]"
      ]
    },
    {
      "cell_type": "markdown",
      "metadata": {
        "id": "R008OQwcDUKt"
      },
      "source": [
        "**✔Нормализуем данные: обычно это необходимо для корректной работы алгоритма**"
      ]
    },
    {
      "cell_type": "code",
      "execution_count": null,
      "metadata": {
        "id": "2Sk7Wx-SDUKt",
        "outputId": "5b126bbb-593d-40ef-abc0-54a213829e1c"
      },
      "outputs": [
        {
          "data": {
            "text/plain": [
              "array([[0.07071068, 0.09561706, 0.09692057, 0.13052034],\n",
              "       [0.07071068, 0.01849178, 0.10076663, 0.08506456],\n",
              "       [0.07071068, 0.00714739, 0.11768927, 0.13070895]])"
            ]
          },
          "execution_count": 7,
          "metadata": {},
          "output_type": "execute_result"
        }
      ],
      "source": [
        "X = X / np.sqrt(np.sum(np.square(X), axis=0))\n",
        "\n",
        "# check\n",
        "X[:3]\n",
        "# Normalization is done by dividing each element in a column\n",
        "# by the square root of the sum of squares of all elements in that column."
      ]
    },
    {
      "cell_type": "markdown",
      "metadata": {
        "id": "F_pHHbAdDUKu"
      },
      "source": [
        "**✔Реализуйте алгоритм координатного спуска:** (3 балла)"
      ]
    },
    {
      "cell_type": "markdown",
      "metadata": {
        "id": "y3IdiHm9DUKv"
      },
      "source": [
        "✔Вам необходимо реализовать координатный спуск, и вывести веса в модели линейной регрессии."
      ]
    },
    {
      "cell_type": "code",
      "execution_count": null,
      "metadata": {
        "id": "4F1aUyVJcna3",
        "outputId": "c28f1b95-0fca-49d8-efcb-8855fcace886"
      },
      "outputs": [
        {
          "name": "stdout",
          "output_type": "stream",
          "text": [
            "Заданная точность: 1e-09\n",
            "Значение функции потерь: 6.94871852736473e-10\n",
            "Количество итераций: 54\n",
            "Вектор весов: [ 41.56224451 110.13144649  73.5286098   -0.55012919]\n"
          ]
        }
      ],
      "source": [
        "def fit_linear_model(X, y, num_iters=1000, precision=1e-9):\n",
        "    \"\"\"\n",
        "    Fits a linear model using a custom iterative algorithm - coordinate descent, limiting the loss function's\n",
        "    precision during the calculations and reports the number of iterations taken to reach the specified precision.\n",
        "\n",
        "    Parameters:\n",
        "    X (numpy.ndarray): The input features matrix with shape (m, n).\n",
        "    y (numpy.ndarray): The target vector with shape (m,).\n",
        "    num_iters (int): The number of iterations to run the algorithm.\n",
        "    precision (float): The desired precision of the cost function.\n",
        "\n",
        "    Returns:\n",
        "    tuple: A tuple containing the cost after the final iteration, the weights vector w, and the number of iterations performed.\n",
        "    \"\"\"\n",
        "    m, n = X.shape  # m: number of rows, n: number of columns in matrix X\n",
        "    w = np.zeros(n)  # initialize weights vector of size n with zeros\n",
        "    iteration_count = 0  # initialize iteration counter\n",
        "\n",
        "    for i in range(num_iters):\n",
        "        for k in range(n):\n",
        "            # Compute the prediction without the k-th factor\n",
        "            h = (X[:, 0:k] @ w[0:k]) + (X[:, k+1:] @ w[k+1:])\n",
        "            # Update the new value of the k-th coefficient\n",
        "            w[k] = (X[:, k].T @ (y - h))\n",
        "\n",
        "        # Compute the cost function\n",
        "        cost = sum((X @ w) - y) ** 2/(len(y))\n",
        "\n",
        "        # If the cost is already at the desired precision, break the loop\n",
        "        if cost < precision:\n",
        "            iteration_count = i + 1  # update the iteration counter to the current iteration\n",
        "            break\n",
        "\n",
        "    # If we didn't break out of the loop, we hit the maximum number of iterations\n",
        "    if iteration_count == 0:\n",
        "        iteration_count = num_iters\n",
        "\n",
        "    return precision, cost, w, iteration_count\n",
        "\n",
        "# Example usage:\n",
        "# Assuming X and y are defined and are numpy arrays\n",
        "\n",
        "\n",
        "precision, cost, w, iterations = fit_linear_model(X, y)\n",
        "print(f'Заданная точность: {precision}')\n",
        "print(f'Значение функции потерь: {cost}')\n",
        "print(f'Количество итераций: {iterations}')\n",
        "print(f'Вектор весов: {w}')"
      ]
    },
    {
      "cell_type": "markdown",
      "metadata": {
        "id": "a3jG-7UADUKx"
      },
      "source": [
        "✔Сравните результаты с реализацией линейной регрессии из библиотеки sklearn:"
      ]
    },
    {
      "cell_type": "code",
      "execution_count": null,
      "metadata": {
        "id": "SBl-1Yb5DUKy",
        "outputId": "58ef575a-55e9-4bb4-853f-d263f116a8d2"
      },
      "outputs": [
        {
          "name": "stdout",
          "output_type": "stream",
          "text": [
            "[ 41.56217205 110.13144155  73.52860638  -0.55006384]\n"
          ]
        }
      ],
      "source": [
        "from sklearn.linear_model import LinearRegression\n",
        "\n",
        "model = LinearRegression(fit_intercept=False)\n",
        "model.fit(X, y)\n",
        "\n",
        "print(model.coef_)"
      ]
    },
    {
      "cell_type": "code",
      "execution_count": null,
      "metadata": {
        "id": "CgyQ697Icna4",
        "outputId": "2699e00a-da3d-4843-dbd5-f7fadeeab64e"
      },
      "outputs": [
        {
          "data": {
            "text/plain": [
              "9.776206764029564e-05"
            ]
          },
          "execution_count": 10,
          "metadata": {},
          "output_type": "execute_result"
        }
      ],
      "source": [
        "# Евклидово расстояние между векторами предсказаний координатным спуском и линейной регрессией sklearn\n",
        "np.linalg.norm(w - model.coef_)"
      ]
    },
    {
      "cell_type": "markdown",
      "metadata": {
        "id": "hIl0AGLyDUKy"
      },
      "source": [
        "Если вы все сделали верно, они должны практически совпасть!"
      ]
    },
    {
      "cell_type": "markdown",
      "metadata": {
        "id": "ahFbSGPxcna4"
      },
      "source": [
        "### Вывод по разделу\n",
        "Тысяча итераций в общем то и не нужна. Точность у коэффициентов до 3 знака после запятой всего при 50 итерациях достигается.\n"
      ]
    },
    {
      "cell_type": "markdown",
      "metadata": {
        "id": "VCGwFnPdDUKz"
      },
      "source": [
        "## Стохастический градиентный спуск (6 баллов)"
      ]
    },
    {
      "cell_type": "markdown",
      "metadata": {
        "id": "5u7Q2YJla_Xk"
      },
      "source": [
        "**✔Отмасштабируйте столбцы исходной матрицы *X* (которую мы не нормализовали еще!). Для того, чтобы это сделать, надо вычесть из каждого значения среднее и разделить на стандартное отклонение** (0.5 баллов)"
      ]
    },
    {
      "cell_type": "code",
      "execution_count": null,
      "metadata": {
        "id": "hZdffj-Ycna5"
      },
      "outputs": [],
      "source": [
        "# Переопределяем матрицу наблюдений\n",
        "X = df.drop(['sales', 'Unnamed: 0'], axis=1).values"
      ]
    },
    {
      "cell_type": "code",
      "execution_count": null,
      "metadata": {
        "id": "z1mk1RPfcna5",
        "outputId": "ee0f1cb4-217e-4128-e348-6f18b81f54df"
      },
      "outputs": [
        {
          "name": "stdout",
          "output_type": "stream",
          "text": [
            "Масштабирование проведено корректно. Первые три элемента:\n",
            " [[ 2.12559023 -0.37983282  0.02926902]\n",
            " [-0.29254039 -0.36028974 -0.28472315]\n",
            " [-0.64822447 -0.27430018  0.03057189]]\n"
          ]
        }
      ],
      "source": [
        "# Ensure X is not a single value and has variance to avoid division by zero\n",
        "if X.size > 1 and X.std() != 0:\n",
        "    # Perform Z-score normalization (масштабирование с помощью Z-оценки)\n",
        "    X = (X - X.mean()) / X.std()\n",
        "    print(\"Масштабирование проведено корректно. Первые три элемента:\\n\", X[:3])\n",
        "else:\n",
        "    print(\"Масштабирование невозможно. X содержит только одно значениe или нет вариаций значений.\")"
      ]
    },
    {
      "cell_type": "markdown",
      "metadata": {
        "id": "8WkNYILHDUK1"
      },
      "source": [
        "**✔Добавим единичный столбец**"
      ]
    },
    {
      "cell_type": "code",
      "execution_count": null,
      "metadata": {
        "id": "EVl5tEGtDUK1",
        "outputId": "0e57afdd-94ab-44ff-d34b-c2bbd5de803e"
      },
      "outputs": [
        {
          "data": {
            "text/plain": [
              "array([[ 1.        ,  2.12559023, -0.37983282,  0.02926902],\n",
              "       [ 1.        , -0.29254039, -0.36028974, -0.28472315],\n",
              "       [ 1.        , -0.64822447, -0.27430018,  0.03057189]])"
            ]
          },
          "execution_count": 13,
          "metadata": {},
          "output_type": "execute_result"
        }
      ],
      "source": [
        "X = np.hstack([np.ones(X.shape[0]).reshape(-1, 1), X])\n",
        "\n",
        "#check\n",
        "X[:3]"
      ]
    },
    {
      "cell_type": "markdown",
      "metadata": {
        "id": "m53tZA5fDUK1"
      },
      "source": [
        "**✔Создайте функцию mse_error для вычисления среднеквадратичной ошибки, принимающую два аргумента: реальные значения и предсказывающие, и возвращающую значение mse** (0.5 балла)"
      ]
    },
    {
      "cell_type": "code",
      "execution_count": null,
      "metadata": {
        "id": "0cvtC08Aa_YK"
      },
      "outputs": [],
      "source": [
        "def mse_error(y, y_pred):\n",
        "    \"\"\"\n",
        "    Calculate the mean squared error between the true values and predicted values.\n",
        "\n",
        "    Parameters:\n",
        "    y (array_like): True values. Must be 1D array or similar structure.\n",
        "    y_pred (array_like): Predicted values. Must be 1D array of the same length as y.\n",
        "\n",
        "    Returns:\n",
        "    float: Mean squared error of the predictions.\n",
        "    \"\"\"\n",
        "    return ((y - y_pred) ** 2).mean()"
      ]
    },
    {
      "cell_type": "markdown",
      "metadata": {
        "id": "lpOLhdvBDUK2"
      },
      "source": [
        "**✔Сделайте наивный прогноз: предскажите продажи средним значением. После этого рассчитайте среднеквадратичную ошибку для этого прогноза** (0.5 балла)"
      ]
    },
    {
      "cell_type": "code",
      "execution_count": null,
      "metadata": {
        "id": "15XgnRTgcna6",
        "outputId": "6e2537a0-f631-4dee-8889-24a9b69a5587"
      },
      "outputs": [
        {
          "data": {
            "text/plain": [
              "array([14.0225, 14.0225, 14.0225])"
            ]
          },
          "execution_count": 15,
          "metadata": {},
          "output_type": "execute_result"
        }
      ],
      "source": [
        "# Наивный прогноз таргета\n",
        "y_pred = np.full(len(y), y.mean())\n",
        "\n",
        "# check\n",
        "y_pred[:3]"
      ]
    },
    {
      "cell_type": "code",
      "execution_count": null,
      "metadata": {
        "id": "kLV_XljVa_YZ",
        "outputId": "9b6031aa-66e9-469e-de80-5f7667848490"
      },
      "outputs": [
        {
          "data": {
            "text/plain": [
              "27.085743750000002"
            ]
          },
          "execution_count": 16,
          "metadata": {},
          "output_type": "execute_result"
        }
      ],
      "source": [
        "# MSE для наивного прогноза\n",
        "mse_error(y, y_pred)"
      ]
    },
    {
      "cell_type": "markdown",
      "metadata": {
        "id": "BbybL2ola_ZM"
      },
      "source": [
        "**✔Создайте функцию *lin_pred*, которая может по матрице предикторов *X* и вектору весов линейной модели *w* получить вектор прогнозов** (0.5 балла)"
      ]
    },
    {
      "cell_type": "code",
      "execution_count": null,
      "metadata": {
        "id": "YUaL6_picna6"
      },
      "outputs": [],
      "source": [
        "def lin_pred(X, w):\n",
        "    \"\"\"\n",
        "    Compute the vector of predictions from the predictor matrix and weight vector.\n",
        "\n",
        "    Parameters:\n",
        "    X (array_like): Predictor matrix where each row corresponds to an observation\n",
        "                    and each column corresponds to a feature.\n",
        "    w (array_like): Weight vector for the linear model.\n",
        "\n",
        "    Returns:\n",
        "    array_like: Vector of predictions for each observation.\n",
        "    \"\"\"\n",
        "    return np.dot(X, w)"
      ]
    },
    {
      "cell_type": "markdown",
      "metadata": {
        "id": "BU4adBrya_Zm"
      },
      "source": [
        "**✔Создайте функцию *stoch_grad_step* для реализации шага стохастического градиентного спуска. (1.5 балла)\n",
        "Функция должна принимать на вход следующие аргументы:**\n",
        "* матрицу *X*\n",
        "* вектора *y* и *w*\n",
        "* число *train_ind* - индекс объекта обучающей выборки (строки матрицы *X*), по которому считается изменение весов\n",
        "* число *$\\eta$* (eta) - шаг градиентного спуска\n",
        "\n",
        "Результатом будет вектор обновленных весов"
      ]
    },
    {
      "cell_type": "markdown",
      "metadata": {
        "id": "dyLY-P02DUK5"
      },
      "source": [
        "Шаг для стохастического градиентного спуска выглядит следующим образом:"
      ]
    },
    {
      "cell_type": "markdown",
      "metadata": {
        "id": "ORsAyIKNDUK5"
      },
      "source": [
        "$$\\Large w_j \\leftarrow w_j - \\frac{2\\eta}{\\ell} \\sum_{i=1}^\\ell{{x_{ij}((w_0 + w_1x_{i1} + w_2x_{i2} +  w_3x_{i3}) - y_i)}}$$"
      ]
    },
    {
      "cell_type": "markdown",
      "metadata": {
        "id": "CQl2FrpuDUK6"
      },
      "source": [
        "Для того, чтобы написать функцию, нужно сделать следующее:\n",
        "    \n",
        "*  посчитать направление изменения: умножить объект обучающей выборки на 2 и на разницу между предсказанным значением и реальным, а потом поделить на количество элементов в выборке.\n",
        "* вернуть разницу между вектором весов и направлением изменения, умноженным на шаг градиентного спуска"
      ]
    },
    {
      "cell_type": "code",
      "execution_count": null,
      "metadata": {
        "id": "0pcISDTscna8"
      },
      "outputs": [],
      "source": [
        "def stoch_grad_step(X, y, w, train_ind, eta):\n",
        "    \"\"\"\n",
        "    Perform a single stochastic gradient descent step based on mean squared error loss.\n",
        "\n",
        "    Parameters:\n",
        "    X (array_like): Matrix of features with shape (n_samples, n_features).\n",
        "    y (array_like): Vector of target variable with shape (n_samples,).\n",
        "    w (array_like): Current weights vector with shape (n_features,).\n",
        "    train_ind (int): Index of the training sample to use for this step.\n",
        "    eta (float): Learning rate.\n",
        "\n",
        "    Returns:\n",
        "    array_like: Updated weights vector with shape (n_features,).\n",
        "\n",
        "    Note:\n",
        "    The function assumes that the loss function used is mean squared error (MSE)\n",
        "    and that a separate function `lin_pred` is available for making predictions.\n",
        "    \"\"\"\n",
        "    x_i = X[train_ind]  # Select the training sample\n",
        "    y_i = y[train_ind]  # Select the corresponding target value\n",
        "\n",
        "    # Compute the prediction for the selected instance\n",
        "    y_pred_i = lin_pred(x_i.reshape(1, -1), w)\n",
        "\n",
        "    # Calculate the gradient direction for the selected instance\n",
        "    grad_direction = (x_i * 2 * (y_pred_i - y_i)) / len(X)\n",
        "\n",
        "    # Update the weights vector in the direction opposite to the gradient\n",
        "    new_w = w - eta * grad_direction\n",
        "\n",
        "    return new_w"
      ]
    },
    {
      "cell_type": "markdown",
      "metadata": {
        "id": "pXwIFd0Ma_Zx"
      },
      "source": [
        "**✔Создайте функцию *stochastic_gradient_descent*, для реализации стохастического градиентного спуска (2.5 балла)**\n",
        "\n",
        "**Функция принимает на вход следующие аргументы:**\n",
        "- Матрицу признаков X\n",
        "- Целевую переменнную\n",
        "- Изначальную точку (веса модели)\n",
        "- Параметр, определяющий темп обучения\n",
        "- Максимальное число итераций\n",
        "- Евклидово расстояние между векторами весов на соседних итерациях градиентного спуска,при котором алгоритм прекращает работу\n",
        "\n",
        "**На каждой итерации в вектор (список) должно записываться текущее значение среднеквадратичной ошибки. Функция должна возвращать вектор весов $w$, а также вектор (список) ошибок.**"
      ]
    },
    {
      "cell_type": "markdown",
      "metadata": {
        "id": "eVXiD69ycna8"
      },
      "source": [
        "Алгоритм сследующий:\n",
        "    \n",
        "* Инициализируйте расстояние между векторами весов на соседних итерациях большим числом (можно бесконечностью)\n",
        "* Создайте пустой список для фиксации ошибок\n",
        "* Создайте счетчик итераций\n",
        "* Реализуйте оновной цикл обучения пока расстояние между векторами весов больше того, при котором надо прекратить работу (когда расстояния станут слишком маленькими - значит, мы застряли в одном месте) и количество итераций меньше максимально разрешенного: сгенерируйте случайный индекс, запишите текущую ошибку в вектор ошибок, запишите в переменную текущий шаг стохастического спуска с использованием функции, написанной ранее. Далее рассчитайте текущее расстояние между векторами весов и прибавьте к счетчику итераций 1.\n",
        "* Верните вектор весов и вектор ошибок"
      ]
    },
    {
      "cell_type": "code",
      "execution_count": null,
      "metadata": {
        "id": "OJiayrnPcna8"
      },
      "outputs": [],
      "source": [
        "def stochastic_gradient_descent(X, y, init_weights, learn_rate, max_iter, min_eucl_dist):\n",
        "    \"\"\"\n",
        "    Performs stochastic gradient descent optimization to find the optimal weights for a linear model.\n",
        "\n",
        "    Args:\n",
        "        X (numpy.ndarray): The input features matrix with shape (m_samples, n_features).\n",
        "        y (numpy.ndarray): The target vector with shape (m_samples,).\n",
        "        init_weights (numpy.ndarray): The initial weights vector with shape (n_features,).\n",
        "        learn_rate (float): The learning rate for the optimization algorithm.\n",
        "        max_iter (int): The maximum number of iterations to perform.\n",
        "        min_eucl_dist (float): The minimum Euclidean distance between consecutive weight updates.\n",
        "\n",
        "    Returns:\n",
        "        tuple: A tuple containing the final weights vector and a list of mean squared errors for each iteration.\n",
        "    \"\"\"\n",
        "    weight_dist = np.inf  # Initialize the weight distance to infinity for the first comparison\n",
        "    errors = []  # List to store mean squared errors for each iteration\n",
        "    cnt = 0  # Counter to keep track of the number of iterations\n",
        "\n",
        "    # Loop until the weight updates are smaller than the min_eucl_dist or the max_iter is reached\n",
        "    while weight_dist > min_eucl_dist and cnt < max_iter:\n",
        "        train_ind = np.random.randint(X.shape[0])  # Randomly select an index for the training sample\n",
        "\n",
        "        # Perform a stochastic gradient descent step and get new weights\n",
        "        new_weights = stoch_grad_step(X, y, init_weights, train_ind, learn_rate)\n",
        "\n",
        "        # Calculate the Euclidean distance between the new weights and the previous weights\n",
        "        weight_dist = np.linalg.norm(new_weights - init_weights)\n",
        "\n",
        "        # Update the weights for the next iteration\n",
        "        init_weights = new_weights\n",
        "\n",
        "        # Calculate the mean squared error for the current weights and add it to the errors list\n",
        "        y_pred = lin_pred(X, init_weights)  # Predict the target values using the current weights\n",
        "        errors.append(mse_error(y, y_pred))  # Compute the MSE and append to errors list\n",
        "\n",
        "        cnt += 1  # Increment the iteration counter\n",
        "\n",
        "    # Once the loop is finished, return the final weights and the errors list\n",
        "    return init_weights, errors"
      ]
    },
    {
      "cell_type": "markdown",
      "metadata": {
        "id": "0OqHO1Rta_Z7"
      },
      "source": [
        " **✔Запустите $10^5$ итераций стохастического градиентного спуска. Укажите вектор начальных весов, состоящий из нулей. Можете поэкспериментировать с параметром, отвечающим за темп обучения.**"
      ]
    },
    {
      "cell_type": "markdown",
      "metadata": {
        "id": "N6fHHT6vDUK8"
      },
      "source": [
        "**✔Постройте график зависимости ошибки от номера итерации**"
      ]
    },
    {
      "cell_type": "code",
      "execution_count": null,
      "metadata": {
        "id": "2sZ0xCPncna9",
        "outputId": "d16ac153-935b-45e7-a112-76bda1081707"
      },
      "outputs": [
        {
          "data": {
            "image/png": "[encoded data removed]",
            "text/plain": [
              "<Figure size 1000x600 with 1 Axes>"
            ]
          },
          "metadata": {},
          "output_type": "display_data"
        }
      ],
      "source": [
        "import numpy as np\n",
        "import matplotlib.pyplot as plt\n",
        "\n",
        "# Assuming X, y and stochastic_gradient_descent function are already defined\n",
        "\n",
        "m, n = X.shape  # m: number of rows, n: number of columns in matrix X\n",
        "init_weights = np.zeros(n)  # initialize weights vector of size n with zeros\n",
        "learning_rates = [1, 0.1, 0.05]  # The list of learning rates to compare\n",
        "max_iter = 10**5\n",
        "min_eucl_dist = 10**(-5)\n",
        "\n",
        "# Initialize plot\n",
        "plt.figure(figsize=(10, 6))  # 10x6 inches for the figure size\n",
        "\n",
        "# Custom styles for each learning rate\n",
        "line_styles = ['-', '--', '-.']\n",
        "markers = ['o', 's', '^']\n",
        "colors = ['b', 'g', 'r']\n",
        "\n",
        "# Plot MSE for each learning rate with enhanced styles and best MSE labels\n",
        "for learn_rate, line_style, marker, color in zip(learning_rates, line_styles, markers, colors):\n",
        "    final_weights, errors = stochastic_gradient_descent(X, y, init_weights, learn_rate, max_iter, min_eucl_dist)\n",
        "    best_mse = errors[-1]  # Assuming errors is a list where the last item is the final MSE\n",
        "    plt.plot(errors, label=f'LR={learn_rate}, Best MSE={best_mse:.4f}', linestyle=line_style, marker=marker, color=color, linewidth=1, markersize=5)\n",
        "\n",
        "plt.title('MSE vs Iterations for Different Learning Rates', fontsize=14, fontweight='normal')\n",
        "plt.xlabel('Iteration', fontsize=12)\n",
        "plt.ylabel('Mean Squared Error', fontsize=12)\n",
        "plt.legend()  # Add a legend to distinguish between different learning rates\n",
        "plt.grid(True)  # Add grid for better readability\n",
        "plt.show()"
      ]
    },
    {
      "cell_type": "code",
      "execution_count": null,
      "metadata": {
        "id": "JTSsOtmEcna9"
      },
      "outputs": [],
      "source": [
        "m, n = X.shape  # m: number of rows, n: number of columns in matrix X\n",
        "init_weights = np.zeros(n)  # initialize weights vector of size n with zeros\n",
        "learn_rate = 1  #\n",
        "max_iter = 10**5\n",
        "min_eucl_dist = 10**(-5)\n",
        "final_weights, errors = stochastic_gradient_descent(X, y, init_weights, learn_rate, max_iter, min_eucl_dist)"
      ]
    },
    {
      "cell_type": "markdown",
      "metadata": {
        "id": "O-MVOcJ6a_aY"
      },
      "source": [
        "**Выведите вектор весов, к которому сошелся метод.**"
      ]
    },
    {
      "cell_type": "code",
      "execution_count": null,
      "metadata": {
        "id": "MPjVkXe4DUK9",
        "outputId": "16500b33-d75b-4cda-fa22-2f87f4c26758"
      },
      "outputs": [
        {
          "name": "stdout",
          "output_type": "stream",
          "text": [
            "вектор весов, к которому сошелся метод: [12.81868825  3.73742996  4.37812292  0.19846121]\n"
          ]
        }
      ],
      "source": [
        "print(f'вектор весов, к которому сошелся метод: {final_weights}')"
      ]
    },
    {
      "cell_type": "markdown",
      "metadata": {
        "id": "qabzMc3Qa_a5"
      },
      "source": [
        "**Выведите среднеквадратичную ошибку на последней итерации.**"
      ]
    },
    {
      "cell_type": "code",
      "execution_count": null,
      "metadata": {
        "id": "7tPWleMIa_a7",
        "outputId": "4d0d6aa2-c442-4d8b-832f-3972b3f24454"
      },
      "outputs": [
        {
          "name": "stdout",
          "output_type": "stream",
          "text": [
            "MSE на последней итерации: 6.497431270601856\n"
          ]
        }
      ],
      "source": [
        "print(f'MSE на последней итерации: {errors[-1]}')"
      ]
    },
    {
      "cell_type": "markdown",
      "metadata": {
        "id": "I9GkpmEWcna-"
      },
      "source": [
        "### БОНУСНОЕ ЗАДАНИЕ\n",
        "\n",
        "Разумеется, в реальности специалисты по машинному обучению не прописывают алгоритмы с нуля, а пользуются готовыми реализациями из библиотек. Реализованный Вами стохастический градиентный спуск представлен в библиотеке sklearn.\n",
        "\n",
        "Что необходимо сделать:\n",
        "\n",
        "Выберите в документации класс, подходящий для вашей задачи, и обучите стохастический градиентный спуск.\n",
        "Оцените качество с помощью среднеквадратичной ошибки и сравните результат с результатом алгоритма, реализованного вами самостоятельно.\n",
        "В одном из предыдущих модулей качество решения задачи регрессии оценивалось с помощью ещё одной метрики. Найдите её реализацию в библиотеке sklearn и оцените качество полученной модели.\n",
        "Данное задание не является обязательным, но, выполнив его, вы получите возможность заработать дополнительные 3 балла."
      ]
    },
    {
      "cell_type": "markdown",
      "source": [
        "**Вывод и сравнение методов**"
      ],
      "metadata": {
        "id": "tOnhw4ij3QG8"
      }
    },
    {
      "cell_type": "markdown",
      "metadata": {
        "id": "753sNa6tcna_"
      },
      "source": [
        "Использование SGDRegressor в сравнении с ручным механизмом дает лучшие результаты в части:\n",
        "SGDRegressor из библиотеки `scikit-learn` позволяет оптимизировать и настраивать гиперпараметры,что улучшает производительность модели.\n",
        "SGDRegressor- позволяет работать на больших наборах данных с высокой производительстью  и автоматически использует оптимизации.\n",
        "В SGDRegressor включены различные виды регуляризации (L1, L2, ElasticNet), которые помогают контролировать переобучение модели.\n",
        "SGDRegressor реализует механизмы для предотвращения численных ошибок.\n",
        "Интерпретации возможных ошибок SGDRegressor через MAE и MSE.Выбор между MAE и MSE зависит от конкретной задачи и необходимости градации ошибок.SGDRegressor позволяет легко вычислить MAE и MSE с помощью функций `mean_absolute_error` и `mean_squared_error` соответственно."
      ]
    }
  ],
  "metadata": {
    "colab": {
      "provenance": [],
      "include_colab_link": true
    },
    "kernelspec": {
      "display_name": "Python 3 (ipykernel)",
      "language": "python",
      "name": "python3"
    },
    "language_info": {
      "codemirror_mode": {
        "name": "ipython",
        "version": 3
      },
      "file_extension": ".py",
      "mimetype": "text/x-python",
      "name": "python",
      "nbconvert_exporter": "python",
      "pygments_lexer": "ipython3",
      "version": "3.11.5"
    }
  },
  "nbformat": 4,
  "nbformat_minor": 0
}